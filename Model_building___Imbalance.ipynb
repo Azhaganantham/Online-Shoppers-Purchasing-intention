{
  "nbformat": 4,
  "nbformat_minor": 0,
  "metadata": {
    "colab": {
      "name": "Capstone Model building _ Imbalance.ipynb",
      "provenance": [],
      "collapsed_sections": []
    },
    "kernelspec": {
      "name": "python3",
      "display_name": "Python 3"
    }
  },
  "cells": [
    {
      "cell_type": "code",
      "metadata": {
        "id": "Uu-zBudGDWmG",
        "colab_type": "code",
        "outputId": "ff7883fd-1d99-41e7-a6e4-f1c6ac0ae601",
        "colab": {
          "base_uri": "https://localhost:8080/",
          "height": 124
        }
      },
      "source": [
        "from google.colab import drive\n",
        "drive.mount('/content/drive')"
      ],
      "execution_count": 0,
      "outputs": [
        {
          "output_type": "stream",
          "text": [
            "Go to this URL in a browser: https://accounts.google.com/o/oauth2/auth?client_id=947318989803-6bn6qk8qdgf4n4g3pfee6491hc0brc4i.apps.googleusercontent.com&redirect_uri=urn%3Aietf%3Awg%3Aoauth%3A2.0%3Aoob&scope=email%20https%3A%2F%2Fwww.googleapis.com%2Fauth%2Fdocs.test%20https%3A%2F%2Fwww.googleapis.com%2Fauth%2Fdrive%20https%3A%2F%2Fwww.googleapis.com%2Fauth%2Fdrive.photos.readonly%20https%3A%2F%2Fwww.googleapis.com%2Fauth%2Fpeopleapi.readonly&response_type=code\n",
            "\n",
            "Enter your authorization code:\n",
            "··········\n",
            "Mounted at /content/drive\n"
          ],
          "name": "stdout"
        }
      ]
    },
    {
      "cell_type": "code",
      "metadata": {
        "id": "ud4jmmOkDYEE",
        "colab_type": "code",
        "outputId": "8080de90-7ac7-46ab-9058-8fe348267057",
        "colab": {
          "base_uri": "https://localhost:8080/",
          "height": 72
        }
      },
      "source": [
        "# Importing necessary libraries\n",
        "import pandas as pd\n",
        "import numpy as np\n",
        "import seaborn as sns\n",
        "import matplotlib.pyplot as plt\n",
        "from sklearn.cluster import KMeans\n",
        "from sklearn import preprocessing\n",
        "from sklearn.preprocessing import RobustScaler\n",
        "from sklearn.preprocessing import StandardScaler\n",
        "from sklearn.preprocessing import Normalizer\n",
        "from imblearn.over_sampling import SMOTE\n",
        "from sklearn.model_selection import train_test_split\n",
        "from sklearn.linear_model import LogisticRegression\n",
        "from sklearn import metrics\n",
        "from sklearn.model_selection import GridSearchCV\n",
        "from sklearn.linear_model import LogisticRegression\n",
        "from sklearn.neighbors import KNeighborsClassifier\n",
        "from sklearn.tree import DecisionTreeClassifier\n",
        "from sklearn.ensemble import RandomForestClassifier\n",
        "from lightgbm import LGBMClassifier\n",
        "from sklearn.ensemble import BaggingClassifier\n",
        "from sklearn.ensemble import AdaBoostClassifier\n",
        "\n",
        "import warnings\n",
        "warnings.filterwarnings(\"ignore\")"
      ],
      "execution_count": 0,
      "outputs": [
        {
          "output_type": "stream",
          "text": [
            "/usr/local/lib/python3.6/dist-packages/sklearn/externals/six.py:31: DeprecationWarning: The module is deprecated in version 0.21 and will be removed in version 0.23 since we've dropped support for Python 2.7. Please rely on the official version of six (https://pypi.org/project/six/).\n",
            "  \"(https://pypi.org/project/six/).\", DeprecationWarning)\n"
          ],
          "name": "stderr"
        }
      ]
    },
    {
      "cell_type": "code",
      "metadata": {
        "id": "NxdzR6rKDij8",
        "colab_type": "code",
        "outputId": "5ff2404b-5e2a-4ee3-a1a3-6b7aa0cb8e79",
        "colab": {
          "base_uri": "https://localhost:8080/",
          "height": 222
        }
      },
      "source": [
        "# Reading/Importing the dataset into work environment \n",
        "df= pd.read_csv(\"/content/drive/My Drive/capstone/online_shoppers_intention.csv\")\n",
        "df.head()"
      ],
      "execution_count": 0,
      "outputs": [
        {
          "output_type": "execute_result",
          "data": {
            "text/html": [
              "<div>\n",
              "<style scoped>\n",
              "    .dataframe tbody tr th:only-of-type {\n",
              "        vertical-align: middle;\n",
              "    }\n",
              "\n",
              "    .dataframe tbody tr th {\n",
              "        vertical-align: top;\n",
              "    }\n",
              "\n",
              "    .dataframe thead th {\n",
              "        text-align: right;\n",
              "    }\n",
              "</style>\n",
              "<table border=\"1\" class=\"dataframe\">\n",
              "  <thead>\n",
              "    <tr style=\"text-align: right;\">\n",
              "      <th></th>\n",
              "      <th>Administrative</th>\n",
              "      <th>Administrative_Duration</th>\n",
              "      <th>Informational</th>\n",
              "      <th>Informational_Duration</th>\n",
              "      <th>ProductRelated</th>\n",
              "      <th>ProductRelated_Duration</th>\n",
              "      <th>BounceRates</th>\n",
              "      <th>ExitRates</th>\n",
              "      <th>PageValues</th>\n",
              "      <th>SpecialDay</th>\n",
              "      <th>Month</th>\n",
              "      <th>OperatingSystems</th>\n",
              "      <th>Browser</th>\n",
              "      <th>Region</th>\n",
              "      <th>TrafficType</th>\n",
              "      <th>VisitorType</th>\n",
              "      <th>Weekend</th>\n",
              "      <th>Revenue</th>\n",
              "    </tr>\n",
              "  </thead>\n",
              "  <tbody>\n",
              "    <tr>\n",
              "      <th>0</th>\n",
              "      <td>0</td>\n",
              "      <td>0.0</td>\n",
              "      <td>0</td>\n",
              "      <td>0.0</td>\n",
              "      <td>1</td>\n",
              "      <td>0.000000</td>\n",
              "      <td>0.20</td>\n",
              "      <td>0.20</td>\n",
              "      <td>0.0</td>\n",
              "      <td>0.0</td>\n",
              "      <td>Feb</td>\n",
              "      <td>1</td>\n",
              "      <td>1</td>\n",
              "      <td>1</td>\n",
              "      <td>1</td>\n",
              "      <td>Returning_Visitor</td>\n",
              "      <td>False</td>\n",
              "      <td>False</td>\n",
              "    </tr>\n",
              "    <tr>\n",
              "      <th>1</th>\n",
              "      <td>0</td>\n",
              "      <td>0.0</td>\n",
              "      <td>0</td>\n",
              "      <td>0.0</td>\n",
              "      <td>2</td>\n",
              "      <td>64.000000</td>\n",
              "      <td>0.00</td>\n",
              "      <td>0.10</td>\n",
              "      <td>0.0</td>\n",
              "      <td>0.0</td>\n",
              "      <td>Feb</td>\n",
              "      <td>2</td>\n",
              "      <td>2</td>\n",
              "      <td>1</td>\n",
              "      <td>2</td>\n",
              "      <td>Returning_Visitor</td>\n",
              "      <td>False</td>\n",
              "      <td>False</td>\n",
              "    </tr>\n",
              "    <tr>\n",
              "      <th>2</th>\n",
              "      <td>0</td>\n",
              "      <td>0.0</td>\n",
              "      <td>0</td>\n",
              "      <td>0.0</td>\n",
              "      <td>1</td>\n",
              "      <td>0.000000</td>\n",
              "      <td>0.20</td>\n",
              "      <td>0.20</td>\n",
              "      <td>0.0</td>\n",
              "      <td>0.0</td>\n",
              "      <td>Feb</td>\n",
              "      <td>4</td>\n",
              "      <td>1</td>\n",
              "      <td>9</td>\n",
              "      <td>3</td>\n",
              "      <td>Returning_Visitor</td>\n",
              "      <td>False</td>\n",
              "      <td>False</td>\n",
              "    </tr>\n",
              "    <tr>\n",
              "      <th>3</th>\n",
              "      <td>0</td>\n",
              "      <td>0.0</td>\n",
              "      <td>0</td>\n",
              "      <td>0.0</td>\n",
              "      <td>2</td>\n",
              "      <td>2.666667</td>\n",
              "      <td>0.05</td>\n",
              "      <td>0.14</td>\n",
              "      <td>0.0</td>\n",
              "      <td>0.0</td>\n",
              "      <td>Feb</td>\n",
              "      <td>3</td>\n",
              "      <td>2</td>\n",
              "      <td>2</td>\n",
              "      <td>4</td>\n",
              "      <td>Returning_Visitor</td>\n",
              "      <td>False</td>\n",
              "      <td>False</td>\n",
              "    </tr>\n",
              "    <tr>\n",
              "      <th>4</th>\n",
              "      <td>0</td>\n",
              "      <td>0.0</td>\n",
              "      <td>0</td>\n",
              "      <td>0.0</td>\n",
              "      <td>10</td>\n",
              "      <td>627.500000</td>\n",
              "      <td>0.02</td>\n",
              "      <td>0.05</td>\n",
              "      <td>0.0</td>\n",
              "      <td>0.0</td>\n",
              "      <td>Feb</td>\n",
              "      <td>3</td>\n",
              "      <td>3</td>\n",
              "      <td>1</td>\n",
              "      <td>4</td>\n",
              "      <td>Returning_Visitor</td>\n",
              "      <td>True</td>\n",
              "      <td>False</td>\n",
              "    </tr>\n",
              "  </tbody>\n",
              "</table>\n",
              "</div>"
            ],
            "text/plain": [
              "   Administrative  Administrative_Duration  ...  Weekend  Revenue\n",
              "0               0                      0.0  ...    False    False\n",
              "1               0                      0.0  ...    False    False\n",
              "2               0                      0.0  ...    False    False\n",
              "3               0                      0.0  ...    False    False\n",
              "4               0                      0.0  ...     True    False\n",
              "\n",
              "[5 rows x 18 columns]"
            ]
          },
          "metadata": {
            "tags": []
          },
          "execution_count": 3
        }
      ]
    },
    {
      "cell_type": "code",
      "metadata": {
        "id": "LNh_0xw4wMYq",
        "colab_type": "code",
        "colab": {}
      },
      "source": [
        "# Converting datatype of categorical variable"
      ],
      "execution_count": 0,
      "outputs": []
    },
    {
      "cell_type": "code",
      "metadata": {
        "id": "Ug6InL7IwRJX",
        "colab_type": "code",
        "colab": {}
      },
      "source": [
        "df['Month']=df['Month'].astype('category')\n",
        "df['OperatingSystems']=df['OperatingSystems'].astype('category')\n",
        "df['Browser']=df['Browser'].astype('category')\n",
        "df['Region']=df['Region'].astype('category')\n",
        "df['TrafficType']=df['TrafficType'].astype('category')\n",
        "df['VisitorType']=df['VisitorType'].astype('category')"
      ],
      "execution_count": 0,
      "outputs": []
    },
    {
      "cell_type": "code",
      "metadata": {
        "id": "M8HaaUG74lM0",
        "colab_type": "code",
        "colab": {}
      },
      "source": [
        "df['Weekend']=df['Weekend'].astype('bool')\n",
        "df['Revenue']=df['Revenue'].astype('bool')"
      ],
      "execution_count": 0,
      "outputs": []
    },
    {
      "cell_type": "code",
      "metadata": {
        "id": "10WbULu6fjTQ",
        "colab_type": "code",
        "colab": {}
      },
      "source": [
        "# Creating seperate dataframe of numerical & categorical variable\n",
        "df_num=df.select_dtypes(include=['int64','float64'])\n",
        "df_catg=df.select_dtypes(include=['category'])\n",
        "df_bool=df.select_dtypes(include=['bool'])"
      ],
      "execution_count": 0,
      "outputs": []
    },
    {
      "cell_type": "code",
      "metadata": {
        "id": "anfs1I_c4tLX",
        "colab_type": "code",
        "outputId": "fce2dfdc-b6e9-4038-feb2-0d52494814aa",
        "colab": {
          "base_uri": "https://localhost:8080/",
          "height": 202
        }
      },
      "source": [
        "df_bool.head()"
      ],
      "execution_count": 0,
      "outputs": [
        {
          "output_type": "execute_result",
          "data": {
            "text/html": [
              "<div>\n",
              "<style scoped>\n",
              "    .dataframe tbody tr th:only-of-type {\n",
              "        vertical-align: middle;\n",
              "    }\n",
              "\n",
              "    .dataframe tbody tr th {\n",
              "        vertical-align: top;\n",
              "    }\n",
              "\n",
              "    .dataframe thead th {\n",
              "        text-align: right;\n",
              "    }\n",
              "</style>\n",
              "<table border=\"1\" class=\"dataframe\">\n",
              "  <thead>\n",
              "    <tr style=\"text-align: right;\">\n",
              "      <th></th>\n",
              "      <th>Weekend</th>\n",
              "      <th>Revenue</th>\n",
              "    </tr>\n",
              "  </thead>\n",
              "  <tbody>\n",
              "    <tr>\n",
              "      <th>0</th>\n",
              "      <td>False</td>\n",
              "      <td>False</td>\n",
              "    </tr>\n",
              "    <tr>\n",
              "      <th>1</th>\n",
              "      <td>False</td>\n",
              "      <td>False</td>\n",
              "    </tr>\n",
              "    <tr>\n",
              "      <th>2</th>\n",
              "      <td>False</td>\n",
              "      <td>False</td>\n",
              "    </tr>\n",
              "    <tr>\n",
              "      <th>3</th>\n",
              "      <td>False</td>\n",
              "      <td>False</td>\n",
              "    </tr>\n",
              "    <tr>\n",
              "      <th>4</th>\n",
              "      <td>True</td>\n",
              "      <td>False</td>\n",
              "    </tr>\n",
              "  </tbody>\n",
              "</table>\n",
              "</div>"
            ],
            "text/plain": [
              "   Weekend  Revenue\n",
              "0    False    False\n",
              "1    False    False\n",
              "2    False    False\n",
              "3    False    False\n",
              "4     True    False"
            ]
          },
          "metadata": {
            "tags": []
          },
          "execution_count": 8
        }
      ]
    },
    {
      "cell_type": "code",
      "metadata": {
        "id": "6n9xGwjp8hIC",
        "colab_type": "code",
        "outputId": "09d815f0-71ae-44b1-f61b-832e8a176941",
        "colab": {
          "base_uri": "https://localhost:8080/",
          "height": 222
        }
      },
      "source": [
        "df_num.head()"
      ],
      "execution_count": 0,
      "outputs": [
        {
          "output_type": "execute_result",
          "data": {
            "text/html": [
              "<div>\n",
              "<style scoped>\n",
              "    .dataframe tbody tr th:only-of-type {\n",
              "        vertical-align: middle;\n",
              "    }\n",
              "\n",
              "    .dataframe tbody tr th {\n",
              "        vertical-align: top;\n",
              "    }\n",
              "\n",
              "    .dataframe thead th {\n",
              "        text-align: right;\n",
              "    }\n",
              "</style>\n",
              "<table border=\"1\" class=\"dataframe\">\n",
              "  <thead>\n",
              "    <tr style=\"text-align: right;\">\n",
              "      <th></th>\n",
              "      <th>Administrative</th>\n",
              "      <th>Administrative_Duration</th>\n",
              "      <th>Informational</th>\n",
              "      <th>Informational_Duration</th>\n",
              "      <th>ProductRelated</th>\n",
              "      <th>ProductRelated_Duration</th>\n",
              "      <th>BounceRates</th>\n",
              "      <th>ExitRates</th>\n",
              "      <th>PageValues</th>\n",
              "      <th>SpecialDay</th>\n",
              "    </tr>\n",
              "  </thead>\n",
              "  <tbody>\n",
              "    <tr>\n",
              "      <th>0</th>\n",
              "      <td>0</td>\n",
              "      <td>0.0</td>\n",
              "      <td>0</td>\n",
              "      <td>0.0</td>\n",
              "      <td>1</td>\n",
              "      <td>0.000000</td>\n",
              "      <td>0.20</td>\n",
              "      <td>0.20</td>\n",
              "      <td>0.0</td>\n",
              "      <td>0.0</td>\n",
              "    </tr>\n",
              "    <tr>\n",
              "      <th>1</th>\n",
              "      <td>0</td>\n",
              "      <td>0.0</td>\n",
              "      <td>0</td>\n",
              "      <td>0.0</td>\n",
              "      <td>2</td>\n",
              "      <td>64.000000</td>\n",
              "      <td>0.00</td>\n",
              "      <td>0.10</td>\n",
              "      <td>0.0</td>\n",
              "      <td>0.0</td>\n",
              "    </tr>\n",
              "    <tr>\n",
              "      <th>2</th>\n",
              "      <td>0</td>\n",
              "      <td>0.0</td>\n",
              "      <td>0</td>\n",
              "      <td>0.0</td>\n",
              "      <td>1</td>\n",
              "      <td>0.000000</td>\n",
              "      <td>0.20</td>\n",
              "      <td>0.20</td>\n",
              "      <td>0.0</td>\n",
              "      <td>0.0</td>\n",
              "    </tr>\n",
              "    <tr>\n",
              "      <th>3</th>\n",
              "      <td>0</td>\n",
              "      <td>0.0</td>\n",
              "      <td>0</td>\n",
              "      <td>0.0</td>\n",
              "      <td>2</td>\n",
              "      <td>2.666667</td>\n",
              "      <td>0.05</td>\n",
              "      <td>0.14</td>\n",
              "      <td>0.0</td>\n",
              "      <td>0.0</td>\n",
              "    </tr>\n",
              "    <tr>\n",
              "      <th>4</th>\n",
              "      <td>0</td>\n",
              "      <td>0.0</td>\n",
              "      <td>0</td>\n",
              "      <td>0.0</td>\n",
              "      <td>10</td>\n",
              "      <td>627.500000</td>\n",
              "      <td>0.02</td>\n",
              "      <td>0.05</td>\n",
              "      <td>0.0</td>\n",
              "      <td>0.0</td>\n",
              "    </tr>\n",
              "  </tbody>\n",
              "</table>\n",
              "</div>"
            ],
            "text/plain": [
              "   Administrative  Administrative_Duration  ...  PageValues  SpecialDay\n",
              "0               0                      0.0  ...         0.0         0.0\n",
              "1               0                      0.0  ...         0.0         0.0\n",
              "2               0                      0.0  ...         0.0         0.0\n",
              "3               0                      0.0  ...         0.0         0.0\n",
              "4               0                      0.0  ...         0.0         0.0\n",
              "\n",
              "[5 rows x 10 columns]"
            ]
          },
          "metadata": {
            "tags": []
          },
          "execution_count": 9
        }
      ]
    },
    {
      "cell_type": "code",
      "metadata": {
        "id": "Mj_yR_CMw5Q0",
        "colab_type": "code",
        "outputId": "a5b0e45c-1033-49ad-a0f5-24bb903a2cfb",
        "colab": {
          "base_uri": "https://localhost:8080/",
          "height": 202
        }
      },
      "source": [
        "df_catg.head()"
      ],
      "execution_count": 0,
      "outputs": [
        {
          "output_type": "execute_result",
          "data": {
            "text/html": [
              "<div>\n",
              "<style scoped>\n",
              "    .dataframe tbody tr th:only-of-type {\n",
              "        vertical-align: middle;\n",
              "    }\n",
              "\n",
              "    .dataframe tbody tr th {\n",
              "        vertical-align: top;\n",
              "    }\n",
              "\n",
              "    .dataframe thead th {\n",
              "        text-align: right;\n",
              "    }\n",
              "</style>\n",
              "<table border=\"1\" class=\"dataframe\">\n",
              "  <thead>\n",
              "    <tr style=\"text-align: right;\">\n",
              "      <th></th>\n",
              "      <th>Month</th>\n",
              "      <th>OperatingSystems</th>\n",
              "      <th>Browser</th>\n",
              "      <th>Region</th>\n",
              "      <th>TrafficType</th>\n",
              "      <th>VisitorType</th>\n",
              "    </tr>\n",
              "  </thead>\n",
              "  <tbody>\n",
              "    <tr>\n",
              "      <th>0</th>\n",
              "      <td>Feb</td>\n",
              "      <td>1</td>\n",
              "      <td>1</td>\n",
              "      <td>1</td>\n",
              "      <td>1</td>\n",
              "      <td>Returning_Visitor</td>\n",
              "    </tr>\n",
              "    <tr>\n",
              "      <th>1</th>\n",
              "      <td>Feb</td>\n",
              "      <td>2</td>\n",
              "      <td>2</td>\n",
              "      <td>1</td>\n",
              "      <td>2</td>\n",
              "      <td>Returning_Visitor</td>\n",
              "    </tr>\n",
              "    <tr>\n",
              "      <th>2</th>\n",
              "      <td>Feb</td>\n",
              "      <td>4</td>\n",
              "      <td>1</td>\n",
              "      <td>9</td>\n",
              "      <td>3</td>\n",
              "      <td>Returning_Visitor</td>\n",
              "    </tr>\n",
              "    <tr>\n",
              "      <th>3</th>\n",
              "      <td>Feb</td>\n",
              "      <td>3</td>\n",
              "      <td>2</td>\n",
              "      <td>2</td>\n",
              "      <td>4</td>\n",
              "      <td>Returning_Visitor</td>\n",
              "    </tr>\n",
              "    <tr>\n",
              "      <th>4</th>\n",
              "      <td>Feb</td>\n",
              "      <td>3</td>\n",
              "      <td>3</td>\n",
              "      <td>1</td>\n",
              "      <td>4</td>\n",
              "      <td>Returning_Visitor</td>\n",
              "    </tr>\n",
              "  </tbody>\n",
              "</table>\n",
              "</div>"
            ],
            "text/plain": [
              "  Month OperatingSystems Browser Region TrafficType        VisitorType\n",
              "0   Feb                1       1      1           1  Returning_Visitor\n",
              "1   Feb                2       2      1           2  Returning_Visitor\n",
              "2   Feb                4       1      9           3  Returning_Visitor\n",
              "3   Feb                3       2      2           4  Returning_Visitor\n",
              "4   Feb                3       3      1           4  Returning_Visitor"
            ]
          },
          "metadata": {
            "tags": []
          },
          "execution_count": 10
        }
      ]
    },
    {
      "cell_type": "code",
      "metadata": {
        "id": "2QTtFPjTf-R_",
        "colab_type": "code",
        "colab": {}
      },
      "source": [
        "# Standard scaling of data "
      ],
      "execution_count": 0,
      "outputs": []
    },
    {
      "cell_type": "code",
      "metadata": {
        "id": "EilwfJZIztnQ",
        "colab_type": "code",
        "colab": {}
      },
      "source": [
        "ss=StandardScaler()\n",
        "num_ss=ss.fit_transform(df_num)"
      ],
      "execution_count": 0,
      "outputs": []
    },
    {
      "cell_type": "code",
      "metadata": {
        "id": "QTylelth0Gbn",
        "colab_type": "code",
        "colab": {}
      },
      "source": [
        "df_num_ss=pd.DataFrame(data=num_ss,columns=df_num.columns)"
      ],
      "execution_count": 0,
      "outputs": []
    },
    {
      "cell_type": "code",
      "metadata": {
        "id": "uPKp4Qsi0JgP",
        "colab_type": "code",
        "outputId": "0a2c96ac-bdf5-4620-ca66-12faaeb58dfa",
        "colab": {
          "base_uri": "https://localhost:8080/",
          "height": 222
        }
      },
      "source": [
        "df_num_ss.head()"
      ],
      "execution_count": 0,
      "outputs": [
        {
          "output_type": "execute_result",
          "data": {
            "text/html": [
              "<div>\n",
              "<style scoped>\n",
              "    .dataframe tbody tr th:only-of-type {\n",
              "        vertical-align: middle;\n",
              "    }\n",
              "\n",
              "    .dataframe tbody tr th {\n",
              "        vertical-align: top;\n",
              "    }\n",
              "\n",
              "    .dataframe thead th {\n",
              "        text-align: right;\n",
              "    }\n",
              "</style>\n",
              "<table border=\"1\" class=\"dataframe\">\n",
              "  <thead>\n",
              "    <tr style=\"text-align: right;\">\n",
              "      <th></th>\n",
              "      <th>Administrative</th>\n",
              "      <th>Administrative_Duration</th>\n",
              "      <th>Informational</th>\n",
              "      <th>Informational_Duration</th>\n",
              "      <th>ProductRelated</th>\n",
              "      <th>ProductRelated_Duration</th>\n",
              "      <th>BounceRates</th>\n",
              "      <th>ExitRates</th>\n",
              "      <th>PageValues</th>\n",
              "      <th>SpecialDay</th>\n",
              "    </tr>\n",
              "  </thead>\n",
              "  <tbody>\n",
              "    <tr>\n",
              "      <th>0</th>\n",
              "      <td>-0.696993</td>\n",
              "      <td>-0.457191</td>\n",
              "      <td>-0.396478</td>\n",
              "      <td>-0.244931</td>\n",
              "      <td>-0.691003</td>\n",
              "      <td>-0.624348</td>\n",
              "      <td>3.667189</td>\n",
              "      <td>3.229316</td>\n",
              "      <td>-0.317178</td>\n",
              "      <td>-0.308821</td>\n",
              "    </tr>\n",
              "    <tr>\n",
              "      <th>1</th>\n",
              "      <td>-0.696993</td>\n",
              "      <td>-0.457191</td>\n",
              "      <td>-0.396478</td>\n",
              "      <td>-0.244931</td>\n",
              "      <td>-0.668518</td>\n",
              "      <td>-0.590903</td>\n",
              "      <td>-0.457683</td>\n",
              "      <td>1.171473</td>\n",
              "      <td>-0.317178</td>\n",
              "      <td>-0.308821</td>\n",
              "    </tr>\n",
              "    <tr>\n",
              "      <th>2</th>\n",
              "      <td>-0.696993</td>\n",
              "      <td>-0.457191</td>\n",
              "      <td>-0.396478</td>\n",
              "      <td>-0.244931</td>\n",
              "      <td>-0.691003</td>\n",
              "      <td>-0.624348</td>\n",
              "      <td>3.667189</td>\n",
              "      <td>3.229316</td>\n",
              "      <td>-0.317178</td>\n",
              "      <td>-0.308821</td>\n",
              "    </tr>\n",
              "    <tr>\n",
              "      <th>3</th>\n",
              "      <td>-0.696993</td>\n",
              "      <td>-0.457191</td>\n",
              "      <td>-0.396478</td>\n",
              "      <td>-0.244931</td>\n",
              "      <td>-0.668518</td>\n",
              "      <td>-0.622954</td>\n",
              "      <td>0.573535</td>\n",
              "      <td>1.994610</td>\n",
              "      <td>-0.317178</td>\n",
              "      <td>-0.308821</td>\n",
              "    </tr>\n",
              "    <tr>\n",
              "      <th>4</th>\n",
              "      <td>-0.696993</td>\n",
              "      <td>-0.457191</td>\n",
              "      <td>-0.396478</td>\n",
              "      <td>-0.244931</td>\n",
              "      <td>-0.488636</td>\n",
              "      <td>-0.296430</td>\n",
              "      <td>-0.045196</td>\n",
              "      <td>0.142551</td>\n",
              "      <td>-0.317178</td>\n",
              "      <td>-0.308821</td>\n",
              "    </tr>\n",
              "  </tbody>\n",
              "</table>\n",
              "</div>"
            ],
            "text/plain": [
              "   Administrative  Administrative_Duration  ...  PageValues  SpecialDay\n",
              "0       -0.696993                -0.457191  ...   -0.317178   -0.308821\n",
              "1       -0.696993                -0.457191  ...   -0.317178   -0.308821\n",
              "2       -0.696993                -0.457191  ...   -0.317178   -0.308821\n",
              "3       -0.696993                -0.457191  ...   -0.317178   -0.308821\n",
              "4       -0.696993                -0.457191  ...   -0.317178   -0.308821\n",
              "\n",
              "[5 rows x 10 columns]"
            ]
          },
          "metadata": {
            "tags": []
          },
          "execution_count": 14
        }
      ]
    },
    {
      "cell_type": "code",
      "metadata": {
        "id": "CajSSaEHrsak",
        "colab_type": "code",
        "colab": {}
      },
      "source": [
        "from sklearn import preprocessing\n",
        "le = preprocessing.LabelEncoder()"
      ],
      "execution_count": 0,
      "outputs": []
    },
    {
      "cell_type": "code",
      "metadata": {
        "id": "bbWHQi8irCXh",
        "colab_type": "code",
        "outputId": "54bf206d-65c0-483b-d7d3-f66818eb2c64",
        "colab": {
          "base_uri": "https://localhost:8080/",
          "height": 202
        }
      },
      "source": [
        "df_catg_dummy=df_catg.apply(le.fit_transform)\n",
        "df_catg_dummy.head()"
      ],
      "execution_count": 0,
      "outputs": [
        {
          "output_type": "execute_result",
          "data": {
            "text/html": [
              "<div>\n",
              "<style scoped>\n",
              "    .dataframe tbody tr th:only-of-type {\n",
              "        vertical-align: middle;\n",
              "    }\n",
              "\n",
              "    .dataframe tbody tr th {\n",
              "        vertical-align: top;\n",
              "    }\n",
              "\n",
              "    .dataframe thead th {\n",
              "        text-align: right;\n",
              "    }\n",
              "</style>\n",
              "<table border=\"1\" class=\"dataframe\">\n",
              "  <thead>\n",
              "    <tr style=\"text-align: right;\">\n",
              "      <th></th>\n",
              "      <th>Month</th>\n",
              "      <th>OperatingSystems</th>\n",
              "      <th>Browser</th>\n",
              "      <th>Region</th>\n",
              "      <th>TrafficType</th>\n",
              "      <th>VisitorType</th>\n",
              "    </tr>\n",
              "  </thead>\n",
              "  <tbody>\n",
              "    <tr>\n",
              "      <th>0</th>\n",
              "      <td>2</td>\n",
              "      <td>0</td>\n",
              "      <td>0</td>\n",
              "      <td>0</td>\n",
              "      <td>0</td>\n",
              "      <td>2</td>\n",
              "    </tr>\n",
              "    <tr>\n",
              "      <th>1</th>\n",
              "      <td>2</td>\n",
              "      <td>1</td>\n",
              "      <td>1</td>\n",
              "      <td>0</td>\n",
              "      <td>1</td>\n",
              "      <td>2</td>\n",
              "    </tr>\n",
              "    <tr>\n",
              "      <th>2</th>\n",
              "      <td>2</td>\n",
              "      <td>3</td>\n",
              "      <td>0</td>\n",
              "      <td>8</td>\n",
              "      <td>2</td>\n",
              "      <td>2</td>\n",
              "    </tr>\n",
              "    <tr>\n",
              "      <th>3</th>\n",
              "      <td>2</td>\n",
              "      <td>2</td>\n",
              "      <td>1</td>\n",
              "      <td>1</td>\n",
              "      <td>3</td>\n",
              "      <td>2</td>\n",
              "    </tr>\n",
              "    <tr>\n",
              "      <th>4</th>\n",
              "      <td>2</td>\n",
              "      <td>2</td>\n",
              "      <td>2</td>\n",
              "      <td>0</td>\n",
              "      <td>3</td>\n",
              "      <td>2</td>\n",
              "    </tr>\n",
              "  </tbody>\n",
              "</table>\n",
              "</div>"
            ],
            "text/plain": [
              "   Month  OperatingSystems  Browser  Region  TrafficType  VisitorType\n",
              "0      2                 0        0       0            0            2\n",
              "1      2                 1        1       0            1            2\n",
              "2      2                 3        0       8            2            2\n",
              "3      2                 2        1       1            3            2\n",
              "4      2                 2        2       0            3            2"
            ]
          },
          "metadata": {
            "tags": []
          },
          "execution_count": 16
        }
      ]
    },
    {
      "cell_type": "code",
      "metadata": {
        "id": "EYPVVBJM2ADP",
        "colab_type": "code",
        "colab": {}
      },
      "source": [
        "df_bool[\"Weekend\"]=df_bool[\"Weekend\"].map({False:0,True:1})\n",
        "df_bool[\"Revenue\"]=df_bool[\"Revenue\"].map({False:0,True:1})"
      ],
      "execution_count": 0,
      "outputs": []
    },
    {
      "cell_type": "code",
      "metadata": {
        "id": "LrgS4oPzr6FH",
        "colab_type": "code",
        "outputId": "954af965-f294-4a74-9fe5-a72024cd8c5c",
        "colab": {
          "base_uri": "https://localhost:8080/",
          "height": 139
        }
      },
      "source": [
        "df_bool.info()"
      ],
      "execution_count": 0,
      "outputs": [
        {
          "output_type": "stream",
          "text": [
            "<class 'pandas.core.frame.DataFrame'>\n",
            "RangeIndex: 12330 entries, 0 to 12329\n",
            "Data columns (total 2 columns):\n",
            "Weekend    12330 non-null int64\n",
            "Revenue    12330 non-null int64\n",
            "dtypes: int64(2)\n",
            "memory usage: 192.7 KB\n"
          ],
          "name": "stdout"
        }
      ]
    },
    {
      "cell_type": "code",
      "metadata": {
        "id": "fnS_oMr-6aVo",
        "colab_type": "code",
        "outputId": "34b4f9fb-fbe3-41e6-b91f-387ad9218961",
        "colab": {
          "base_uri": "https://localhost:8080/",
          "height": 222
        }
      },
      "source": [
        "df_ss=pd.concat([df_num_ss,df_catg_dummy],axis=1)\n",
        "df_ss=pd.concat([df_ss,df_bool],axis=1)\n",
        "df_ss.head()"
      ],
      "execution_count": 0,
      "outputs": [
        {
          "output_type": "execute_result",
          "data": {
            "text/html": [
              "<div>\n",
              "<style scoped>\n",
              "    .dataframe tbody tr th:only-of-type {\n",
              "        vertical-align: middle;\n",
              "    }\n",
              "\n",
              "    .dataframe tbody tr th {\n",
              "        vertical-align: top;\n",
              "    }\n",
              "\n",
              "    .dataframe thead th {\n",
              "        text-align: right;\n",
              "    }\n",
              "</style>\n",
              "<table border=\"1\" class=\"dataframe\">\n",
              "  <thead>\n",
              "    <tr style=\"text-align: right;\">\n",
              "      <th></th>\n",
              "      <th>Administrative</th>\n",
              "      <th>Administrative_Duration</th>\n",
              "      <th>Informational</th>\n",
              "      <th>Informational_Duration</th>\n",
              "      <th>ProductRelated</th>\n",
              "      <th>ProductRelated_Duration</th>\n",
              "      <th>BounceRates</th>\n",
              "      <th>ExitRates</th>\n",
              "      <th>PageValues</th>\n",
              "      <th>SpecialDay</th>\n",
              "      <th>Month</th>\n",
              "      <th>OperatingSystems</th>\n",
              "      <th>Browser</th>\n",
              "      <th>Region</th>\n",
              "      <th>TrafficType</th>\n",
              "      <th>VisitorType</th>\n",
              "      <th>Weekend</th>\n",
              "      <th>Revenue</th>\n",
              "    </tr>\n",
              "  </thead>\n",
              "  <tbody>\n",
              "    <tr>\n",
              "      <th>0</th>\n",
              "      <td>-0.696993</td>\n",
              "      <td>-0.457191</td>\n",
              "      <td>-0.396478</td>\n",
              "      <td>-0.244931</td>\n",
              "      <td>-0.691003</td>\n",
              "      <td>-0.624348</td>\n",
              "      <td>3.667189</td>\n",
              "      <td>3.229316</td>\n",
              "      <td>-0.317178</td>\n",
              "      <td>-0.308821</td>\n",
              "      <td>2</td>\n",
              "      <td>0</td>\n",
              "      <td>0</td>\n",
              "      <td>0</td>\n",
              "      <td>0</td>\n",
              "      <td>2</td>\n",
              "      <td>0</td>\n",
              "      <td>0</td>\n",
              "    </tr>\n",
              "    <tr>\n",
              "      <th>1</th>\n",
              "      <td>-0.696993</td>\n",
              "      <td>-0.457191</td>\n",
              "      <td>-0.396478</td>\n",
              "      <td>-0.244931</td>\n",
              "      <td>-0.668518</td>\n",
              "      <td>-0.590903</td>\n",
              "      <td>-0.457683</td>\n",
              "      <td>1.171473</td>\n",
              "      <td>-0.317178</td>\n",
              "      <td>-0.308821</td>\n",
              "      <td>2</td>\n",
              "      <td>1</td>\n",
              "      <td>1</td>\n",
              "      <td>0</td>\n",
              "      <td>1</td>\n",
              "      <td>2</td>\n",
              "      <td>0</td>\n",
              "      <td>0</td>\n",
              "    </tr>\n",
              "    <tr>\n",
              "      <th>2</th>\n",
              "      <td>-0.696993</td>\n",
              "      <td>-0.457191</td>\n",
              "      <td>-0.396478</td>\n",
              "      <td>-0.244931</td>\n",
              "      <td>-0.691003</td>\n",
              "      <td>-0.624348</td>\n",
              "      <td>3.667189</td>\n",
              "      <td>3.229316</td>\n",
              "      <td>-0.317178</td>\n",
              "      <td>-0.308821</td>\n",
              "      <td>2</td>\n",
              "      <td>3</td>\n",
              "      <td>0</td>\n",
              "      <td>8</td>\n",
              "      <td>2</td>\n",
              "      <td>2</td>\n",
              "      <td>0</td>\n",
              "      <td>0</td>\n",
              "    </tr>\n",
              "    <tr>\n",
              "      <th>3</th>\n",
              "      <td>-0.696993</td>\n",
              "      <td>-0.457191</td>\n",
              "      <td>-0.396478</td>\n",
              "      <td>-0.244931</td>\n",
              "      <td>-0.668518</td>\n",
              "      <td>-0.622954</td>\n",
              "      <td>0.573535</td>\n",
              "      <td>1.994610</td>\n",
              "      <td>-0.317178</td>\n",
              "      <td>-0.308821</td>\n",
              "      <td>2</td>\n",
              "      <td>2</td>\n",
              "      <td>1</td>\n",
              "      <td>1</td>\n",
              "      <td>3</td>\n",
              "      <td>2</td>\n",
              "      <td>0</td>\n",
              "      <td>0</td>\n",
              "    </tr>\n",
              "    <tr>\n",
              "      <th>4</th>\n",
              "      <td>-0.696993</td>\n",
              "      <td>-0.457191</td>\n",
              "      <td>-0.396478</td>\n",
              "      <td>-0.244931</td>\n",
              "      <td>-0.488636</td>\n",
              "      <td>-0.296430</td>\n",
              "      <td>-0.045196</td>\n",
              "      <td>0.142551</td>\n",
              "      <td>-0.317178</td>\n",
              "      <td>-0.308821</td>\n",
              "      <td>2</td>\n",
              "      <td>2</td>\n",
              "      <td>2</td>\n",
              "      <td>0</td>\n",
              "      <td>3</td>\n",
              "      <td>2</td>\n",
              "      <td>1</td>\n",
              "      <td>0</td>\n",
              "    </tr>\n",
              "  </tbody>\n",
              "</table>\n",
              "</div>"
            ],
            "text/plain": [
              "   Administrative  Administrative_Duration  ...  Weekend  Revenue\n",
              "0       -0.696993                -0.457191  ...        0        0\n",
              "1       -0.696993                -0.457191  ...        0        0\n",
              "2       -0.696993                -0.457191  ...        0        0\n",
              "3       -0.696993                -0.457191  ...        0        0\n",
              "4       -0.696993                -0.457191  ...        1        0\n",
              "\n",
              "[5 rows x 18 columns]"
            ]
          },
          "metadata": {
            "tags": []
          },
          "execution_count": 19
        }
      ]
    },
    {
      "cell_type": "code",
      "metadata": {
        "id": "l9xaAkULxTQl",
        "colab_type": "code",
        "colab": {}
      },
      "source": [
        "# Seperating Independent and Target Variable ( standardized data)\n",
        "X=df_ss.drop('Revenue',axis=1)\n",
        "y=df_ss['Revenue']"
      ],
      "execution_count": 0,
      "outputs": []
    },
    {
      "cell_type": "code",
      "metadata": {
        "id": "kqA9aHyn_J5b",
        "colab_type": "code",
        "outputId": "1d83a84c-5f64-4647-c9b1-41d4a6339c69",
        "colab": {
          "base_uri": "https://localhost:8080/",
          "height": 35
        }
      },
      "source": [
        "# Before oversampling , Target Variable is highly imbalanced \n",
        "np.bincount(y)"
      ],
      "execution_count": 0,
      "outputs": [
        {
          "output_type": "execute_result",
          "data": {
            "text/plain": [
              "array([10422,  1908])"
            ]
          },
          "metadata": {
            "tags": []
          },
          "execution_count": 21
        }
      ]
    },
    {
      "cell_type": "markdown",
      "metadata": {
        "id": "oYv8R2lDTqJg",
        "colab_type": "text"
      },
      "source": [
        "#Model building"
      ]
    },
    {
      "cell_type": "code",
      "metadata": {
        "id": "wOOEXcUr_yCF",
        "colab_type": "code",
        "colab": {}
      },
      "source": [
        "from sklearn.model_selection import train_test_split\n",
        "from sklearn.metrics import classification_report"
      ],
      "execution_count": 0,
      "outputs": []
    },
    {
      "cell_type": "code",
      "metadata": {
        "id": "pXTp6fLZBNDL",
        "colab_type": "code",
        "colab": {}
      },
      "source": [
        "X_train, X_test, y_train, y_test = train_test_split(X,y,train_size=0.7,random_state=100)"
      ],
      "execution_count": 0,
      "outputs": []
    },
    {
      "cell_type": "code",
      "metadata": {
        "id": "_qGajOMd9yOA",
        "colab_type": "code",
        "colab": {}
      },
      "source": [
        "from sklearn.linear_model import LogisticRegression\n",
        "from sklearn import metrics"
      ],
      "execution_count": 0,
      "outputs": []
    },
    {
      "cell_type": "code",
      "metadata": {
        "id": "tPi9dku475YA",
        "colab_type": "code",
        "outputId": "8989508f-0652-4bd1-cbb8-2f26fe0d1f0d",
        "colab": {
          "base_uri": "https://localhost:8080/",
          "height": 243
        }
      },
      "source": [
        "lr= LogisticRegression(random_state=0)\n",
        "lr.fit(X_train, y_train)\n",
        "LR_y_pred = lr.predict(X_test)\n",
        "\n",
        "lr_test_accuracy=metrics.accuracy_score(y_test,LR_y_pred)\n",
        "lr_train_accuracy=lr.score(X_train, y_train)\n",
        "lr_test_precision = metrics.precision_score(y_test,LR_y_pred)\n",
        "\n",
        "print(\"Test Accuracy for Logistic Regression:\\t\",lr_test_accuracy)\n",
        "print()\n",
        "print(\"Training Accuracy for Logistic Regression:\\t\",lr_train_accuracy)\n",
        "print(\"\\nConfusion Matirx:\\n\\n\",metrics.confusion_matrix(y_test,LR_y_pred))\n",
        "print()\n",
        "print(\"\\nPrecision Score:\\n\\n\",lr_test_precision)"
      ],
      "execution_count": 0,
      "outputs": [
        {
          "output_type": "stream",
          "text": [
            "Test Accuracy for Logistic Regression:\t 0.8875371722087051\n",
            "\n",
            "Training Accuracy for Logistic Regression:\t 0.8830958174023867\n",
            "\n",
            "Confusion Matirx:\n",
            "\n",
            " [[3089   66]\n",
            " [ 350  194]]\n",
            "\n",
            "\n",
            "Precision Score:\n",
            "\n",
            " 0.7461538461538462\n"
          ],
          "name": "stdout"
        }
      ]
    },
    {
      "cell_type": "code",
      "metadata": {
        "id": "NIM430DHLuZM",
        "colab_type": "code",
        "outputId": "96d329ec-0d65-46ae-bfa6-e76e4349b36c",
        "colab": {
          "base_uri": "https://localhost:8080/",
          "height": 173
        }
      },
      "source": [
        "Report_lr=metrics.classification_report(y_test,LR_y_pred)\n",
        "print(Report_lr)"
      ],
      "execution_count": 0,
      "outputs": [
        {
          "output_type": "stream",
          "text": [
            "              precision    recall  f1-score   support\n",
            "\n",
            "           0       0.90      0.98      0.94      3155\n",
            "           1       0.75      0.36      0.48       544\n",
            "\n",
            "    accuracy                           0.89      3699\n",
            "   macro avg       0.82      0.67      0.71      3699\n",
            "weighted avg       0.88      0.89      0.87      3699\n",
            "\n"
          ],
          "name": "stdout"
        }
      ]
    },
    {
      "cell_type": "code",
      "metadata": {
        "id": "OXSYNrjVHSOx",
        "colab_type": "code",
        "colab": {}
      },
      "source": [
        "from sklearn import metrics\n",
        "def draw_roc(actual,probs):\n",
        "    fpr,tpr,thresholds = metrics.roc_curve(actual,probs,drop_intermediate=False)\n",
        "    auc_score=metrics.roc_auc_score(actual,probs)\n",
        "    plt.figure(figsize=(6,6))\n",
        "    plt.plot(fpr,tpr,label='ROC curve(area = %0.2f)' %auc_score)\n",
        "    plt.plot([0,1],[0,1],'k--')\n",
        "    plt.xlim([0.0,1.0])\n",
        "    plt.ylim([0.0,1.05])\n",
        "    plt.xlabel('False positve rate')\n",
        "    plt.ylabel('True positve rate')\n",
        "    plt.title('ROC CURVE')\n",
        "    plt.legend(loc=\"lower right\")\n",
        "    plt.show()\n",
        "    \n",
        "    return fpr,tpr,thresholds"
      ],
      "execution_count": 0,
      "outputs": []
    },
    {
      "cell_type": "code",
      "metadata": {
        "id": "dbv1l9MwHbz4",
        "colab_type": "code",
        "outputId": "7ab2e26e-699d-41ec-d3be-c44ebb0b2ac2",
        "colab": {
          "base_uri": "https://localhost:8080/",
          "height": 456
        }
      },
      "source": [
        "draw_roc(y_test,LR_y_pred)"
      ],
      "execution_count": 0,
      "outputs": [
        {
          "output_type": "display_data",
          "data": {
            "image/png": "[encoded data removed]",
            "text/plain": [
              "<Figure size 432x432 with 1 Axes>"
            ]
          },
          "metadata": {
            "tags": []
          }
        },
        {
          "output_type": "execute_result",
          "data": {
            "text/plain": [
              "(array([0.        , 0.02091918, 1.        ]),\n",
              " array([0.        , 0.35661765, 1.        ]),\n",
              " array([2, 1, 0]))"
            ]
          },
          "metadata": {
            "tags": []
          },
          "execution_count": 28
        }
      ]
    },
    {
      "cell_type": "code",
      "metadata": {
        "id": "Sn25-TiJIAjA",
        "colab_type": "code",
        "colab": {}
      },
      "source": [
        "# Decision Tree"
      ],
      "execution_count": 0,
      "outputs": []
    },
    {
      "cell_type": "code",
      "metadata": {
        "id": "DBxxLpB9IHj5",
        "colab_type": "code",
        "colab": {}
      },
      "source": [
        "from sklearn.tree import DecisionTreeClassifier"
      ],
      "execution_count": 0,
      "outputs": []
    },
    {
      "cell_type": "code",
      "metadata": {
        "id": "ySs66blSIOrg",
        "colab_type": "code",
        "outputId": "ee955f85-57a1-4d48-fec8-2a48585dee54",
        "colab": {
          "base_uri": "https://localhost:8080/",
          "height": 277
        }
      },
      "source": [
        "DT= DecisionTreeClassifier(random_state=0)  \n",
        "DT.fit(X_train, y_train)\n",
        "\n",
        "DT_y_pred = DT.predict(X_test) \n",
        "DT_test_accuracy=metrics.accuracy_score(y_test,DT_y_pred)\n",
        "DT_train_accuracy=DT.score(X_train, y_train)\n",
        "DT_test_precision = metrics.precision_score(y_test,DT_y_pred)\n",
        "\n",
        "\n",
        "print(\"Test Accuracy for Decision Tree model:\\n\",DT_test_accuracy)\n",
        "print()\n",
        "print(\"Training Accuracy for Decision Tree model:\\n\",DT_train_accuracy)\n",
        "print(\"\\nConfusion Matirx:\\n\\n\",metrics.confusion_matrix(y_test,DT_y_pred))\n",
        "print()\n",
        "print(\"\\nPrecision Score:\\n\\n\",DT_test_precision)"
      ],
      "execution_count": 0,
      "outputs": [
        {
          "output_type": "stream",
          "text": [
            "Test Accuracy for Decision Tree model:\n",
            " 0.8634766153014328\n",
            "\n",
            "Training Accuracy for Decision Tree model:\n",
            " 1.0\n",
            "\n",
            "Confusion Matirx:\n",
            "\n",
            " [[2902  253]\n",
            " [ 252  292]]\n",
            "\n",
            "\n",
            "Precision Score:\n",
            "\n",
            " 0.5357798165137615\n"
          ],
          "name": "stdout"
        }
      ]
    },
    {
      "cell_type": "code",
      "metadata": {
        "id": "NQtDxjYiM98q",
        "colab_type": "code",
        "outputId": "f5b10a4e-d274-46dc-b45f-6ab2d18ad082",
        "colab": {
          "base_uri": "https://localhost:8080/",
          "height": 173
        }
      },
      "source": [
        "Report_DT=metrics.classification_report(y_test,DT_y_pred)\n",
        "print(Report_DT)"
      ],
      "execution_count": 0,
      "outputs": [
        {
          "output_type": "stream",
          "text": [
            "              precision    recall  f1-score   support\n",
            "\n",
            "           0       0.92      0.92      0.92      3155\n",
            "           1       0.54      0.54      0.54       544\n",
            "\n",
            "    accuracy                           0.86      3699\n",
            "   macro avg       0.73      0.73      0.73      3699\n",
            "weighted avg       0.86      0.86      0.86      3699\n",
            "\n"
          ],
          "name": "stdout"
        }
      ]
    },
    {
      "cell_type": "code",
      "metadata": {
        "id": "CfAgrieAH6HM",
        "colab_type": "code",
        "outputId": "d0262e70-7026-4636-85b9-9e5a2f7fef75",
        "colab": {
          "base_uri": "https://localhost:8080/",
          "height": 456
        }
      },
      "source": [
        "draw_roc(y_test,DT_y_pred)"
      ],
      "execution_count": 0,
      "outputs": [
        {
          "output_type": "display_data",
          "data": {
            "image/png": "[encoded data removed]",
            "text/plain": [
              "<Figure size 432x432 with 1 Axes>"
            ]
          },
          "metadata": {
            "tags": []
          }
        },
        {
          "output_type": "execute_result",
          "data": {
            "text/plain": [
              "(array([0.        , 0.08019017, 1.        ]),\n",
              " array([0.        , 0.53676471, 1.        ]),\n",
              " array([2, 1, 0]))"
            ]
          },
          "metadata": {
            "tags": []
          },
          "execution_count": 33
        }
      ]
    },
    {
      "cell_type": "code",
      "metadata": {
        "id": "5XmAy14dJuWL",
        "colab_type": "code",
        "colab": {}
      },
      "source": [
        "# Random forest model"
      ],
      "execution_count": 0,
      "outputs": []
    },
    {
      "cell_type": "code",
      "metadata": {
        "id": "cIIbYVRSLTzj",
        "colab_type": "code",
        "colab": {}
      },
      "source": [
        "from sklearn.ensemble import RandomForestClassifier"
      ],
      "execution_count": 0,
      "outputs": []
    },
    {
      "cell_type": "code",
      "metadata": {
        "id": "-Wb5M5v2Juas",
        "colab_type": "code",
        "outputId": "1f0286d3-42a4-46b3-fe3a-b2508af19239",
        "colab": {
          "base_uri": "https://localhost:8080/",
          "height": 277
        }
      },
      "source": [
        "rfc= RandomForestClassifier(random_state=0)\n",
        "rfc.fit(X_train, y_train)\n",
        "\n",
        "rfc_y_pred = rfc.predict(X_test) \n",
        "rfc_test_accuracy=metrics.accuracy_score(y_test,rfc_y_pred)\n",
        "rfc_train_accuracy=rfc.score(X_train, y_train)\n",
        "rfc_test_precision = metrics.precision_score(y_test,rfc_y_pred)\n",
        "\n",
        "print(\"Test Accuracy for Random forest model:\\n\",rfc_test_accuracy)\n",
        "print()\n",
        "print(\"Training Accuracy forRandom forest model:\\n\",rfc_train_accuracy)\n",
        "print(\"\\nConfusion Matirx:\\n\\n\",metrics.confusion_matrix(y_test,rfc_y_pred))\n",
        "print()\n",
        "print(\"\\nPrecision Score:\\n\\n\",rfc_test_precision)"
      ],
      "execution_count": 0,
      "outputs": [
        {
          "output_type": "stream",
          "text": [
            "Test Accuracy for Random forest model:\n",
            " 0.8918626655852934\n",
            "\n",
            "Training Accuracy forRandom forest model:\n",
            " 0.9909628084810567\n",
            "\n",
            "Confusion Matirx:\n",
            "\n",
            " [[3023  132]\n",
            " [ 268  276]]\n",
            "\n",
            "\n",
            "Precision Score:\n",
            "\n",
            " 0.6764705882352942\n"
          ],
          "name": "stdout"
        }
      ]
    },
    {
      "cell_type": "code",
      "metadata": {
        "id": "eFCaLY_-Nhe4",
        "colab_type": "code",
        "outputId": "493a0c0e-4de3-43a4-fbc4-f8020d65e34b",
        "colab": {
          "base_uri": "https://localhost:8080/",
          "height": 173
        }
      },
      "source": [
        "Report_rfc=metrics.classification_report(y_test,rfc_y_pred)\n",
        "print(Report_rfc)"
      ],
      "execution_count": 0,
      "outputs": [
        {
          "output_type": "stream",
          "text": [
            "              precision    recall  f1-score   support\n",
            "\n",
            "           0       0.92      0.96      0.94      3155\n",
            "           1       0.68      0.51      0.58       544\n",
            "\n",
            "    accuracy                           0.89      3699\n",
            "   macro avg       0.80      0.73      0.76      3699\n",
            "weighted avg       0.88      0.89      0.89      3699\n",
            "\n"
          ],
          "name": "stdout"
        }
      ]
    },
    {
      "cell_type": "code",
      "metadata": {
        "id": "aomaabUuICqC",
        "colab_type": "code",
        "outputId": "9ee7462a-20d5-405b-872b-ce9650c9e9b0",
        "colab": {
          "base_uri": "https://localhost:8080/",
          "height": 456
        }
      },
      "source": [
        "draw_roc(y_test,rfc_y_pred)"
      ],
      "execution_count": 0,
      "outputs": [
        {
          "output_type": "display_data",
          "data": {
            "image/png": "[encoded data removed]",
            "text/plain": [
              "<Figure size 432x432 with 1 Axes>"
            ]
          },
          "metadata": {
            "tags": []
          }
        },
        {
          "output_type": "execute_result",
          "data": {
            "text/plain": [
              "(array([0.        , 0.04183835, 1.        ]),\n",
              " array([0.        , 0.50735294, 1.        ]),\n",
              " array([2, 1, 0]))"
            ]
          },
          "metadata": {
            "tags": []
          },
          "execution_count": 38
        }
      ]
    },
    {
      "cell_type": "code",
      "metadata": {
        "id": "-Ggw1rJ8N1I1",
        "colab_type": "code",
        "colab": {}
      },
      "source": [
        "# Light Gradient Boosting"
      ],
      "execution_count": 0,
      "outputs": []
    },
    {
      "cell_type": "code",
      "metadata": {
        "id": "zOQ7rIgtP3D1",
        "colab_type": "code",
        "colab": {}
      },
      "source": [
        "from lightgbm import LGBMClassifier"
      ],
      "execution_count": 0,
      "outputs": []
    },
    {
      "cell_type": "code",
      "metadata": {
        "id": "ruT0m2bHP-aw",
        "colab_type": "code",
        "outputId": "06dbe5ac-c16b-4ca4-90fd-1a9b094cf51f",
        "colab": {
          "base_uri": "https://localhost:8080/",
          "height": 277
        }
      },
      "source": [
        "lgbm= LGBMClassifier(random_state=0)\n",
        "lgbm.fit(X_train, y_train)\n",
        "\n",
        "lgbm_y_pred = lgbm.predict(X_test) \n",
        "lgbm_test_accuracy=metrics.accuracy_score(y_test,lgbm_y_pred)\n",
        "lgbm_train_accuracy=lgbm.score(X_train, y_train)\n",
        "lgbm_test_precision = metrics.precision_score(y_test,lgbm_y_pred)\n",
        "\n",
        "print(\"Test Accuracy for Light Gradient boosting model:\\n\",lgbm_test_accuracy)\n",
        "print()\n",
        "print(\"Training Accuracy forLight Gradient boosting model:\\n\",lgbm_train_accuracy)\n",
        "print(\"\\nConfusion Matirx:\\n\\n\",metrics.confusion_matrix(y_test,lgbm_y_pred))\n",
        "print()\n",
        "print(\"\\nPrecision Score:\\n\\n\",lgbm_test_precision)"
      ],
      "execution_count": 0,
      "outputs": [
        {
          "output_type": "stream",
          "text": [
            "Test Accuracy for Light Gradient boosting model:\n",
            " 0.8986212489862125\n",
            "\n",
            "Training Accuracy forLight Gradient boosting model:\n",
            " 0.9667477696674777\n",
            "\n",
            "Confusion Matirx:\n",
            "\n",
            " [[3016  139]\n",
            " [ 236  308]]\n",
            "\n",
            "\n",
            "Precision Score:\n",
            "\n",
            " 0.6890380313199105\n"
          ],
          "name": "stdout"
        }
      ]
    },
    {
      "cell_type": "code",
      "metadata": {
        "id": "Ix3PDekKN9Z3",
        "colab_type": "code",
        "outputId": "f2e43c84-43f0-490a-f577-eba3f4b750fa",
        "colab": {
          "base_uri": "https://localhost:8080/",
          "height": 173
        }
      },
      "source": [
        "Report_lgbm=metrics.classification_report(y_test,lgbm_y_pred)\n",
        "print(Report_lgbm)"
      ],
      "execution_count": 0,
      "outputs": [
        {
          "output_type": "stream",
          "text": [
            "              precision    recall  f1-score   support\n",
            "\n",
            "           0       0.93      0.96      0.94      3155\n",
            "           1       0.69      0.57      0.62       544\n",
            "\n",
            "    accuracy                           0.90      3699\n",
            "   macro avg       0.81      0.76      0.78      3699\n",
            "weighted avg       0.89      0.90      0.89      3699\n",
            "\n"
          ],
          "name": "stdout"
        }
      ]
    },
    {
      "cell_type": "code",
      "metadata": {
        "id": "YdTIVPLSIKR2",
        "colab_type": "code",
        "outputId": "4d0ca353-1891-4557-c8c7-5103afb6d483",
        "colab": {
          "base_uri": "https://localhost:8080/",
          "height": 456
        }
      },
      "source": [
        "draw_roc(y_test,lgbm_y_pred)"
      ],
      "execution_count": 0,
      "outputs": [
        {
          "output_type": "display_data",
          "data": {
            "image/png": "[encoded data removed]",
            "text/plain": [
              "<Figure size 432x432 with 1 Axes>"
            ]
          },
          "metadata": {
            "tags": []
          }
        },
        {
          "output_type": "execute_result",
          "data": {
            "text/plain": [
              "(array([0.        , 0.04405705, 1.        ]),\n",
              " array([0.        , 0.56617647, 1.        ]),\n",
              " array([2, 1, 0]))"
            ]
          },
          "metadata": {
            "tags": []
          },
          "execution_count": 43
        }
      ]
    },
    {
      "cell_type": "code",
      "metadata": {
        "id": "ezAEMzOsQmEv",
        "colab_type": "code",
        "colab": {}
      },
      "source": [
        "# Checking accuracy"
      ],
      "execution_count": 0,
      "outputs": []
    },
    {
      "cell_type": "code",
      "metadata": {
        "id": "lxviVBCLRpgv",
        "colab_type": "code",
        "colab": {}
      },
      "source": [
        "accuracy_table=pd.DataFrame(columns=['Train_accuracy','Test_accuracy','Test_Precision'],index=['LR','DT','RF','LGBM','Bag_LR','Bag_DT','Boost_LR','Boost_DT'])"
      ],
      "execution_count": 0,
      "outputs": []
    },
    {
      "cell_type": "code",
      "metadata": {
        "id": "JDjWFzj-Ut3-",
        "colab_type": "code",
        "colab": {}
      },
      "source": [
        "accuracy_table['Train_accuracy']=[lr_train_accuracy,DT_train_accuracy,rfc_train_accuracy,lgbm_train_accuracy,bag_lr_train_accuracy,bag_DT_train_accuracy,boost_lr_train_accuracy,boost_DT_train_accuracy]"
      ],
      "execution_count": 0,
      "outputs": []
    },
    {
      "cell_type": "code",
      "metadata": {
        "id": "L2-GhuHOgyOk",
        "colab_type": "code",
        "colab": {}
      },
      "source": [
        "accuracy_table['Test_accuracy']=[lr_test_accuracy,DT_test_accuracy,rfc_test_accuracy,lgbm_test_accuracy,bag_lr_test_accuracy,bag_DT_test_accuracy,boost_lr_test_accuracy,boost_DT_test_accuracy]"
      ],
      "execution_count": 0,
      "outputs": []
    },
    {
      "cell_type": "code",
      "metadata": {
        "id": "I1vU5shohQB5",
        "colab_type": "code",
        "colab": {}
      },
      "source": [
        "accuracy_table['Test_Precision']=[lr_test_precision,DT_test_precision,rfc_test_precision,lgbm_test_precision,bag_lr_test_precision,bag_DT_test_precision,boost_lr_test_precision,boost_DT_test_precision]"
      ],
      "execution_count": 0,
      "outputs": []
    },
    {
      "cell_type": "code",
      "metadata": {
        "id": "2GR8K2PLdBxO",
        "colab_type": "code",
        "outputId": "bee68b83-1ac5-4c84-91b6-a4f8c96579b1",
        "colab": {
          "base_uri": "https://localhost:8080/",
          "height": 294
        }
      },
      "source": [
        "accuracy_table.sort_values(by=\"Test_Precision\",ascending=False)"
      ],
      "execution_count": 0,
      "outputs": [
        {
          "output_type": "execute_result",
          "data": {
            "text/html": [
              "<div>\n",
              "<style scoped>\n",
              "    .dataframe tbody tr th:only-of-type {\n",
              "        vertical-align: middle;\n",
              "    }\n",
              "\n",
              "    .dataframe tbody tr th {\n",
              "        vertical-align: top;\n",
              "    }\n",
              "\n",
              "    .dataframe thead th {\n",
              "        text-align: right;\n",
              "    }\n",
              "</style>\n",
              "<table border=\"1\" class=\"dataframe\">\n",
              "  <thead>\n",
              "    <tr style=\"text-align: right;\">\n",
              "      <th></th>\n",
              "      <th>Train_accuracy</th>\n",
              "      <th>Test_accuracy</th>\n",
              "      <th>Test_Precision</th>\n",
              "    </tr>\n",
              "  </thead>\n",
              "  <tbody>\n",
              "    <tr>\n",
              "      <th>Boost_LR</th>\n",
              "      <td>0.869192</td>\n",
              "      <td>0.874020</td>\n",
              "      <td>0.774648</td>\n",
              "    </tr>\n",
              "    <tr>\n",
              "      <th>Bag_LR</th>\n",
              "      <td>0.883559</td>\n",
              "      <td>0.887808</td>\n",
              "      <td>0.747126</td>\n",
              "    </tr>\n",
              "    <tr>\n",
              "      <th>LR</th>\n",
              "      <td>0.883096</td>\n",
              "      <td>0.887537</td>\n",
              "      <td>0.746154</td>\n",
              "    </tr>\n",
              "    <tr>\n",
              "      <th>LGBM</th>\n",
              "      <td>0.966748</td>\n",
              "      <td>0.898621</td>\n",
              "      <td>0.689038</td>\n",
              "    </tr>\n",
              "    <tr>\n",
              "      <th>Bag_DT</th>\n",
              "      <td>0.883559</td>\n",
              "      <td>0.897540</td>\n",
              "      <td>0.679739</td>\n",
              "    </tr>\n",
              "    <tr>\n",
              "      <th>RF</th>\n",
              "      <td>0.990963</td>\n",
              "      <td>0.891863</td>\n",
              "      <td>0.676471</td>\n",
              "    </tr>\n",
              "    <tr>\n",
              "      <th>DT</th>\n",
              "      <td>1.000000</td>\n",
              "      <td>0.863477</td>\n",
              "      <td>0.535780</td>\n",
              "    </tr>\n",
              "    <tr>\n",
              "      <th>Boost_DT</th>\n",
              "      <td>0.869192</td>\n",
              "      <td>0.862666</td>\n",
              "      <td>0.533582</td>\n",
              "    </tr>\n",
              "  </tbody>\n",
              "</table>\n",
              "</div>"
            ],
            "text/plain": [
              "          Train_accuracy  Test_accuracy  Test_Precision\n",
              "Boost_LR        0.869192       0.874020        0.774648\n",
              "Bag_LR          0.883559       0.887808        0.747126\n",
              "LR              0.883096       0.887537        0.746154\n",
              "LGBM            0.966748       0.898621        0.689038\n",
              "Bag_DT          0.883559       0.897540        0.679739\n",
              "RF              0.990963       0.891863        0.676471\n",
              "DT              1.000000       0.863477        0.535780\n",
              "Boost_DT        0.869192       0.862666        0.533582"
            ]
          },
          "metadata": {
            "tags": []
          },
          "execution_count": 107
        }
      ]
    },
    {
      "cell_type": "code",
      "metadata": {
        "id": "eJ0ksNwvDHSd",
        "colab_type": "code",
        "colab": {}
      },
      "source": [
        "# BASE MODEL \n",
        "\n",
        "lr= LogisticRegression(random_state=0)\n",
        "DT= DecisionTreeClassifier(random_state=0)  \n",
        "rfc= RandomForestClassifier(random_state=0)\n",
        "lgbm= LGBMClassifier(random_state=0)"
      ],
      "execution_count": 0,
      "outputs": []
    },
    {
      "cell_type": "code",
      "metadata": {
        "id": "ES-UUwEsJmHU",
        "colab_type": "code",
        "colab": {}
      },
      "source": [
        "# BAGGED MODEL \n",
        "from sklearn.ensemble import BaggingClassifier\n",
        "\n",
        "bag_lr= BaggingClassifier(base_estimator=lr,random_state=0,)\n",
        "bag_DT= BaggingClassifier(base_estimator=DT,random_state=0)\n"
      ],
      "execution_count": 0,
      "outputs": []
    },
    {
      "cell_type": "code",
      "metadata": {
        "id": "R7TVkNAHLQ2u",
        "colab_type": "code",
        "outputId": "e6b743c8-de07-41c0-bdf2-383c896b494b",
        "colab": {
          "base_uri": "https://localhost:8080/",
          "height": 416
        }
      },
      "source": [
        "# Finding n-estimator for all bagged model\n",
        "from sklearn.model_selection import GridSearchCV,KFold\n",
        "\n",
        "grid = {'n_estimators': np.arange(1,50,5)}\n",
        "kf=KFold(n_splits=5,shuffle=True,random_state=0)\n",
        "BC_grid = GridSearchCV(bag_DT, grid, cv=kf,scoring='roc_auc',n_jobs=-1)\n",
        "BC_grid.fit(X_train,y_train)\n"
      ],
      "execution_count": 0,
      "outputs": [
        {
          "output_type": "execute_result",
          "data": {
            "text/plain": [
              "GridSearchCV(cv=KFold(n_splits=5, random_state=0, shuffle=True),\n",
              "             error_score='raise-deprecating',\n",
              "             estimator=BaggingClassifier(base_estimator=DecisionTreeClassifier(class_weight=None,\n",
              "                                                                               criterion='gini',\n",
              "                                                                               max_depth=None,\n",
              "                                                                               max_features=None,\n",
              "                                                                               max_leaf_nodes=None,\n",
              "                                                                               min_impurity_decrease=0.0,\n",
              "                                                                               min_impurity_split=None,\n",
              "                                                                               min_samples_leaf=1,\n",
              "                                                                               min_samples_split=2,\n",
              "                                                                               min_weight_fr...\n",
              "                                                                               splitter='best'),\n",
              "                                         bootstrap=True,\n",
              "                                         bootstrap_features=False,\n",
              "                                         max_features=1.0, max_samples=1.0,\n",
              "                                         n_estimators=10, n_jobs=None,\n",
              "                                         oob_score=False, random_state=0,\n",
              "                                         verbose=0, warm_start=False),\n",
              "             iid='warn', n_jobs=-1,\n",
              "             param_grid={'n_estimators': array([ 1,  6, 11, 16, 21, 26, 31, 36, 41, 46])},\n",
              "             pre_dispatch='2*n_jobs', refit=True, return_train_score=False,\n",
              "             scoring='roc_auc', verbose=0)"
            ]
          },
          "metadata": {
            "tags": []
          },
          "execution_count": 78
        }
      ]
    },
    {
      "cell_type": "code",
      "metadata": {
        "id": "ESbhiXtUNUD6",
        "colab_type": "code",
        "outputId": "10729cea-f449-45ab-e5a7-20a6bde97441",
        "colab": {
          "base_uri": "https://localhost:8080/",
          "height": 52
        }
      },
      "source": [
        "print(\"Best params : {}\".format(BC_grid.best_params_)) \n",
        "print(\"Best score: {}\".format(BC_grid.best_score_))"
      ],
      "execution_count": 0,
      "outputs": [
        {
          "output_type": "stream",
          "text": [
            "Best params : {'n_estimators': 46}\n",
            "Best score: 0.924001533997428\n"
          ],
          "name": "stdout"
        }
      ]
    },
    {
      "cell_type": "code",
      "metadata": {
        "id": "W0dSiAk-LdP-",
        "colab_type": "code",
        "colab": {}
      },
      "source": [
        "# BAGGED MODEL after tuning\n",
        "bag_lr= BaggingClassifier(base_estimator=lr,random_state=0,n_estimators=46)\n",
        "bag_DT= BaggingClassifier(base_estimator=DT,random_state=0,n_estimators=46)"
      ],
      "execution_count": 0,
      "outputs": []
    },
    {
      "cell_type": "code",
      "metadata": {
        "id": "f5ymIkPPKRDf",
        "colab_type": "code",
        "colab": {}
      },
      "source": [
        "# Boosted MODEL \n",
        "from sklearn.ensemble import AdaBoostClassifier\n",
        "\n",
        "boost_lr= AdaBoostClassifier(base_estimator=lr,random_state=0)\n",
        "boost_DT= AdaBoostClassifier(base_estimator=DT,random_state=0)  \n"
      ],
      "execution_count": 0,
      "outputs": []
    },
    {
      "cell_type": "code",
      "metadata": {
        "id": "WlCjy8D9Kosj",
        "colab_type": "code",
        "outputId": "b70b1fba-0a47-4c62-b1bc-13fd72fcfb40",
        "colab": {
          "base_uri": "https://localhost:8080/",
          "height": 399
        }
      },
      "source": [
        "# Finding n-estimator for all boost model\n",
        "from sklearn.model_selection import GridSearchCV,KFold\n",
        "\n",
        "grid = {'n_estimators': np.arange(1,50,5)}\n",
        "kf=KFold(n_splits=5,shuffle=True,random_state=0)\n",
        "BC_grid = GridSearchCV(boost_DT, grid, cv=kf,scoring='roc_auc',n_jobs=-1)\n",
        "BC_grid.fit(X_train,y_train)"
      ],
      "execution_count": 0,
      "outputs": [
        {
          "output_type": "execute_result",
          "data": {
            "text/plain": [
              "GridSearchCV(cv=KFold(n_splits=5, random_state=0, shuffle=True),\n",
              "             error_score='raise-deprecating',\n",
              "             estimator=AdaBoostClassifier(algorithm='SAMME.R',\n",
              "                                          base_estimator=DecisionTreeClassifier(class_weight=None,\n",
              "                                                                                criterion='gini',\n",
              "                                                                                max_depth=None,\n",
              "                                                                                max_features=None,\n",
              "                                                                                max_leaf_nodes=None,\n",
              "                                                                                min_impurity_decrease=0.0,\n",
              "                                                                                min_impurity_split=None,\n",
              "                                                                                min_samples_leaf=1,\n",
              "                                                                                min_samples_split=2,\n",
              "                                                                                min_weight_fraction_leaf=0.0,\n",
              "                                                                                presort=False,\n",
              "                                                                                random_state=0,\n",
              "                                                                                splitter='best'),\n",
              "                                          learning_rate=1.0, n_estimators=50,\n",
              "                                          random_state=0),\n",
              "             iid='warn', n_jobs=-1,\n",
              "             param_grid={'n_estimators': array([ 1,  6, 11, 16, 21, 26, 31, 36, 41, 46])},\n",
              "             pre_dispatch='2*n_jobs', refit=True, return_train_score=False,\n",
              "             scoring='roc_auc', verbose=0)"
            ]
          },
          "metadata": {
            "tags": []
          },
          "execution_count": 82
        }
      ]
    },
    {
      "cell_type": "code",
      "metadata": {
        "id": "t473iO77dA19",
        "colab_type": "code",
        "outputId": "80a06a96-8108-46b7-acd3-56e87ca33e8c",
        "colab": {
          "base_uri": "https://localhost:8080/",
          "height": 52
        }
      },
      "source": [
        "print(\"Best params : {}\".format(BC_grid.best_params_)) \n",
        "print(\"Best score: {}\".format(BC_grid.best_score_))"
      ],
      "execution_count": 0,
      "outputs": [
        {
          "output_type": "stream",
          "text": [
            "Best params : {'n_estimators': 1}\n",
            "Best score: 0.753466587239001\n"
          ],
          "name": "stdout"
        }
      ]
    },
    {
      "cell_type": "code",
      "metadata": {
        "id": "KUPuElMudBY1",
        "colab_type": "code",
        "colab": {}
      },
      "source": [
        "boost_lr= AdaBoostClassifier(base_estimator=lr,random_state=0,n_estimators=46)\n",
        "boost_DT= AdaBoostClassifier(base_estimator=DT,random_state=0,n_estimators=1)  "
      ],
      "execution_count": 0,
      "outputs": []
    },
    {
      "cell_type": "code",
      "metadata": {
        "id": "iFYqPqrsgErF",
        "colab_type": "code",
        "colab": {}
      },
      "source": [
        "# All model\n",
        "\n",
        "# Base Model\n",
        "\n",
        "lr= LogisticRegression(random_state=0)  \n",
        "DT= DecisionTreeClassifier(random_state=0)  \n",
        "rfc= RandomForestClassifier(random_state=0)\n",
        "lgbm= LGBMClassifier(random_state=0)\n",
        "\n",
        "# Bagged Model after tuning\n",
        "bag_lr= BaggingClassifier(base_estimator=lr,random_state=0,n_estimators=46)  \n",
        "bag_DT= BaggingClassifier(base_estimator=DT,random_state=0,n_estimators=46)\n",
        "\n",
        "# Boosted Model after tuning\n",
        "boost_lr= AdaBoostClassifier(base_estimator=lr,random_state=0,n_estimators=46)\n",
        "boost_DT= AdaBoostClassifier(base_estimator=DT,random_state=0,n_estimators=1)  \n"
      ],
      "execution_count": 0,
      "outputs": []
    },
    {
      "cell_type": "markdown",
      "metadata": {
        "id": "bj-cER45WCyt",
        "colab_type": "text"
      },
      "source": [
        "# Bagged LR"
      ]
    },
    {
      "cell_type": "code",
      "metadata": {
        "id": "CWTbUKWJS0lU",
        "colab_type": "code",
        "outputId": "1531c6fb-e399-4376-b332-9019b3183123",
        "colab": {
          "base_uri": "https://localhost:8080/",
          "height": 277
        }
      },
      "source": [
        "bag_lr= BaggingClassifier(base_estimator=lr,random_state=0,n_estimators=46)  \n",
        "bag_lr.fit(X_train, y_train)\n",
        "\n",
        "bag_lr_y_pred = bag_lr.predict(X_test) \n",
        "bag_lr_test_accuracy=metrics.accuracy_score(y_test,bag_lr_y_pred)\n",
        "bag_lr_train_accuracy=bag_lr.score(X_train, y_train)\n",
        "bag_lr_test_precision = metrics.precision_score(y_test,bag_lr_y_pred)\n",
        "\n",
        "print(\"Test Accuracy for Bagged LR model:\\n\",bag_lr_test_accuracy)\n",
        "print()\n",
        "print(\"Training Accuracy for Bagged LR model model:\\n\",bag_lr_train_accuracy)\n",
        "print(\"\\nConfusion Matirx:\\n\\n\",metrics.confusion_matrix(y_test,bag_lr_y_pred))\n",
        "print()\n",
        "print(\"\\nPrecision Score:\\n\\n\",bag_lr_test_precision)"
      ],
      "execution_count": 0,
      "outputs": [
        {
          "output_type": "stream",
          "text": [
            "Test Accuracy for Bagged LR model:\n",
            " 0.8878075155447418\n",
            "\n",
            "Training Accuracy for Bagged LR model model:\n",
            " 0.883559263121307\n",
            "\n",
            "Confusion Matirx:\n",
            "\n",
            " [[3089   66]\n",
            " [ 349  195]]\n",
            "\n",
            "\n",
            "Precision Score:\n",
            "\n",
            " 0.7471264367816092\n"
          ],
          "name": "stdout"
        }
      ]
    },
    {
      "cell_type": "code",
      "metadata": {
        "id": "vzVDX85WUGhS",
        "colab_type": "code",
        "outputId": "a2f1d528-cd83-4c5a-ba0d-4ec7e4267708",
        "colab": {
          "base_uri": "https://localhost:8080/",
          "height": 173
        }
      },
      "source": [
        "Report_bag_lr=metrics.classification_report(y_test,bag_lr_y_pred)\n",
        "print(Report_bag_lr)"
      ],
      "execution_count": 0,
      "outputs": [
        {
          "output_type": "stream",
          "text": [
            "              precision    recall  f1-score   support\n",
            "\n",
            "           0       0.90      0.98      0.94      3155\n",
            "           1       0.75      0.36      0.48       544\n",
            "\n",
            "    accuracy                           0.89      3699\n",
            "   macro avg       0.82      0.67      0.71      3699\n",
            "weighted avg       0.88      0.89      0.87      3699\n",
            "\n"
          ],
          "name": "stdout"
        }
      ]
    },
    {
      "cell_type": "code",
      "metadata": {
        "id": "n4j2VHJ2UsJs",
        "colab_type": "code",
        "outputId": "99226b1a-accc-4e4b-e36c-629ed2279be0",
        "colab": {
          "base_uri": "https://localhost:8080/",
          "height": 456
        }
      },
      "source": [
        "draw_roc(y_test,bag_lr_y_pred)"
      ],
      "execution_count": 0,
      "outputs": [
        {
          "output_type": "display_data",
          "data": {
            "image/png": "[encoded data removed]",
            "text/plain": [
              "<Figure size 432x432 with 1 Axes>"
            ]
          },
          "metadata": {
            "tags": []
          }
        },
        {
          "output_type": "execute_result",
          "data": {
            "text/plain": [
              "(array([0.        , 0.02091918, 1.        ]),\n",
              " array([0.        , 0.35845588, 1.        ]),\n",
              " array([2, 1, 0]))"
            ]
          },
          "metadata": {
            "tags": []
          },
          "execution_count": 88
        }
      ]
    },
    {
      "cell_type": "markdown",
      "metadata": {
        "id": "2On5ugThWcr9",
        "colab_type": "text"
      },
      "source": [
        "# Bagged Decision Tree"
      ]
    },
    {
      "cell_type": "code",
      "metadata": {
        "id": "Y08zDn_AWRe_",
        "colab_type": "code",
        "outputId": "79640322-e95a-42c4-a29e-60853137b94d",
        "colab": {
          "base_uri": "https://localhost:8080/",
          "height": 277
        }
      },
      "source": [
        "bag_DT= BaggingClassifier(base_estimator=DT,random_state=0,n_estimators=46)\n",
        "bag_DT.fit(X_train, y_train)\n",
        "\n",
        "bag_DT_y_pred = bag_DT.predict(X_test) \n",
        "bag_DT_test_accuracy=metrics.accuracy_score(y_test,bag_DT_y_pred)\n",
        "bag_DT_train_accuracy=bag_lr.score(X_train, y_train)\n",
        "bag_DT_test_precision = metrics.precision_score(y_test,bag_DT_y_pred)\n",
        "\n",
        "print(\"Test Accuracy for Bagged DT model:\\n\",bag_DT_test_accuracy)\n",
        "print()\n",
        "print(\"Training Accuracy for Bagged DT model model:\\n\",bag_DT_train_accuracy)\n",
        "print(\"\\nConfusion Matirx:\\n\\n\",metrics.confusion_matrix(y_test,bag_DT_y_pred))\n",
        "print()\n",
        "print(\"\\nPrecision Score:\\n\\n\",bag_DT_test_precision)"
      ],
      "execution_count": 0,
      "outputs": [
        {
          "output_type": "stream",
          "text": [
            "Test Accuracy for Bagged DT model:\n",
            " 0.8975398756420654\n",
            "\n",
            "Training Accuracy for Bagged DT model model:\n",
            " 0.883559263121307\n",
            "\n",
            "Confusion Matirx:\n",
            "\n",
            " [[3008  147]\n",
            " [ 232  312]]\n",
            "\n",
            "\n",
            "Precision Score:\n",
            "\n",
            " 0.6797385620915033\n"
          ],
          "name": "stdout"
        }
      ]
    },
    {
      "cell_type": "code",
      "metadata": {
        "id": "1rZpzg7YWRh8",
        "colab_type": "code",
        "outputId": "d34b81f1-06ad-4ede-f8ed-a1e641a3eb0e",
        "colab": {
          "base_uri": "https://localhost:8080/",
          "height": 173
        }
      },
      "source": [
        "Report_bag_DT=metrics.classification_report(y_test,bag_DT_y_pred)\n",
        "print(Report_bag_DT)"
      ],
      "execution_count": 0,
      "outputs": [
        {
          "output_type": "stream",
          "text": [
            "              precision    recall  f1-score   support\n",
            "\n",
            "           0       0.93      0.95      0.94      3155\n",
            "           1       0.68      0.57      0.62       544\n",
            "\n",
            "    accuracy                           0.90      3699\n",
            "   macro avg       0.80      0.76      0.78      3699\n",
            "weighted avg       0.89      0.90      0.89      3699\n",
            "\n"
          ],
          "name": "stdout"
        }
      ]
    },
    {
      "cell_type": "code",
      "metadata": {
        "id": "kBOSOQ99WRlE",
        "colab_type": "code",
        "outputId": "a5ddee96-7238-445e-85a0-2ba9d3d1154b",
        "colab": {
          "base_uri": "https://localhost:8080/",
          "height": 456
        }
      },
      "source": [
        "draw_roc(y_test,bag_DT_y_pred)"
      ],
      "execution_count": 0,
      "outputs": [
        {
          "output_type": "display_data",
          "data": {
            "image/png": "[encoded data removed]",
            "text/plain": [
              "<Figure size 432x432 with 1 Axes>"
            ]
          },
          "metadata": {
            "tags": []
          }
        },
        {
          "output_type": "execute_result",
          "data": {
            "text/plain": [
              "(array([0.        , 0.04659271, 1.        ]),\n",
              " array([0.        , 0.57352941, 1.        ]),\n",
              " array([2, 1, 0]))"
            ]
          },
          "metadata": {
            "tags": []
          },
          "execution_count": 91
        }
      ]
    },
    {
      "cell_type": "markdown",
      "metadata": {
        "id": "PwfufW5BYF_t",
        "colab_type": "text"
      },
      "source": [
        "# Boosted LR"
      ]
    },
    {
      "cell_type": "code",
      "metadata": {
        "id": "GTSySLC8WRqm",
        "colab_type": "code",
        "outputId": "4a81598d-4a6f-4a51-937f-e3df8f42ea02",
        "colab": {
          "base_uri": "https://localhost:8080/",
          "height": 277
        }
      },
      "source": [
        "boost_lr= AdaBoostClassifier(base_estimator=lr,random_state=0,n_estimators=46)\n",
        "boost_lr.fit(X_train, y_train)\n",
        "\n",
        "boost_lr_y_pred = boost_lr.predict(X_test) \n",
        "boost_lr_test_accuracy=metrics.accuracy_score(y_test,boost_lr_y_pred)\n",
        "boost_lr_train_accuracy=boost_lr.score(X_train, y_train)\n",
        "boost_lr_test_precision = metrics.precision_score(y_test,boost_lr_y_pred)\n",
        "\n",
        "print(\"Test Accuracy for Boosted LR model:\\n\",boost_lr_test_accuracy)\n",
        "print()\n",
        "print(\"Training Accuracy for Boosted LR model model:\\n\",boost_lr_train_accuracy)\n",
        "print(\"\\nConfusion Matirx:\\n\\n\",metrics.confusion_matrix(y_test,boost_lr_y_pred))\n",
        "print()\n",
        "print(\"\\nPrecision Score:\\n\\n\",boost_lr_test_precision)\n"
      ],
      "execution_count": 0,
      "outputs": [
        {
          "output_type": "stream",
          "text": [
            "Test Accuracy for Boosted LR model:\n",
            " 0.8740200054068668\n",
            "\n",
            "Training Accuracy for Boosted LR model model:\n",
            " 0.8691924458347816\n",
            "\n",
            "Confusion Matirx:\n",
            "\n",
            " [[3123   32]\n",
            " [ 434  110]]\n",
            "\n",
            "\n",
            "Precision Score:\n",
            "\n",
            " 0.7746478873239436\n"
          ],
          "name": "stdout"
        }
      ]
    },
    {
      "cell_type": "code",
      "metadata": {
        "id": "TK9BkftQWRuB",
        "colab_type": "code",
        "outputId": "3141749b-e6cc-41cf-bc95-e2147c31f24c",
        "colab": {
          "base_uri": "https://localhost:8080/",
          "height": 173
        }
      },
      "source": [
        "Report_boost_lr=metrics.classification_report(y_test,boost_lr_y_pred)\n",
        "print(Report_boost_lr)"
      ],
      "execution_count": 0,
      "outputs": [
        {
          "output_type": "stream",
          "text": [
            "              precision    recall  f1-score   support\n",
            "\n",
            "           0       0.88      0.99      0.93      3155\n",
            "           1       0.77      0.20      0.32       544\n",
            "\n",
            "    accuracy                           0.87      3699\n",
            "   macro avg       0.83      0.60      0.63      3699\n",
            "weighted avg       0.86      0.87      0.84      3699\n",
            "\n"
          ],
          "name": "stdout"
        }
      ]
    },
    {
      "cell_type": "code",
      "metadata": {
        "id": "jqOrwYTGWR4O",
        "colab_type": "code",
        "outputId": "efda157c-ee9b-4718-b7ff-8cc39d840a72",
        "colab": {
          "base_uri": "https://localhost:8080/",
          "height": 456
        }
      },
      "source": [
        "draw_roc(y_test,boost_lr_y_pred)"
      ],
      "execution_count": 0,
      "outputs": [
        {
          "output_type": "display_data",
          "data": {
            "image/png": "[encoded data removed]",
            "text/plain": [
              "<Figure size 432x432 with 1 Axes>"
            ]
          },
          "metadata": {
            "tags": []
          }
        },
        {
          "output_type": "execute_result",
          "data": {
            "text/plain": [
              "(array([0.        , 0.01014263, 1.        ]),\n",
              " array([0.        , 0.20220588, 1.        ]),\n",
              " array([2, 1, 0]))"
            ]
          },
          "metadata": {
            "tags": []
          },
          "execution_count": 94
        }
      ]
    },
    {
      "cell_type": "markdown",
      "metadata": {
        "id": "1egQkpVIZeet",
        "colab_type": "text"
      },
      "source": [
        "# Boosted DT"
      ]
    },
    {
      "cell_type": "code",
      "metadata": {
        "id": "I66XzXSqWR7d",
        "colab_type": "code",
        "outputId": "3ef26678-dfb6-4a4e-9323-efd1b0080644",
        "colab": {
          "base_uri": "https://localhost:8080/",
          "height": 277
        }
      },
      "source": [
        "boost_DT= AdaBoostClassifier(base_estimator=DT,random_state=0,n_estimators=1) \n",
        "boost_DT.fit(X_train, y_train)\n",
        "\n",
        "boost_DT_y_pred = boost_DT.predict(X_test) \n",
        "boost_DT_test_accuracy=metrics.accuracy_score(y_test,boost_DT_y_pred)\n",
        "boost_DT_train_accuracy=boost_lr.score(X_train, y_train)\n",
        "boost_DT_test_precision = metrics.precision_score(y_test,boost_DT_y_pred)\n",
        "\n",
        "print(\"Test Accuracy for Bagged DT model:\\n\",boost_DT_test_accuracy)\n",
        "print()\n",
        "print(\"Training Accuracy for Bagged DT model model:\\n\",boost_DT_train_accuracy)\n",
        "print(\"\\nConfusion Matirx:\\n\\n\",metrics.confusion_matrix(y_test,boost_DT_y_pred))\n",
        "print()\n",
        "print(\"\\nPrecision Score:\\n\\n\",boost_DT_test_precision) \n"
      ],
      "execution_count": 0,
      "outputs": [
        {
          "output_type": "stream",
          "text": [
            "Test Accuracy for Bagged DT model:\n",
            " 0.8626655852933225\n",
            "\n",
            "Training Accuracy for Bagged DT model model:\n",
            " 0.8691924458347816\n",
            "\n",
            "Confusion Matirx:\n",
            "\n",
            " [[2905  250]\n",
            " [ 258  286]]\n",
            "\n",
            "\n",
            "Precision Score:\n",
            "\n",
            " 0.5335820895522388\n"
          ],
          "name": "stdout"
        }
      ]
    },
    {
      "cell_type": "code",
      "metadata": {
        "id": "GabxJwNjWSAr",
        "colab_type": "code",
        "outputId": "ab4b96f7-75d7-42f6-ec50-188d488d2bc8",
        "colab": {
          "base_uri": "https://localhost:8080/",
          "height": 173
        }
      },
      "source": [
        "Report_boost_DT=metrics.classification_report(y_test,boost_DT_y_pred)\n",
        "print(Report_boost_DT)"
      ],
      "execution_count": 0,
      "outputs": [
        {
          "output_type": "stream",
          "text": [
            "              precision    recall  f1-score   support\n",
            "\n",
            "           0       0.92      0.92      0.92      3155\n",
            "           1       0.53      0.53      0.53       544\n",
            "\n",
            "    accuracy                           0.86      3699\n",
            "   macro avg       0.73      0.72      0.72      3699\n",
            "weighted avg       0.86      0.86      0.86      3699\n",
            "\n"
          ],
          "name": "stdout"
        }
      ]
    },
    {
      "cell_type": "code",
      "metadata": {
        "id": "JTO11LESWSGc",
        "colab_type": "code",
        "outputId": "c3b88657-ffa7-4db3-8715-8f14db2d1810",
        "colab": {
          "base_uri": "https://localhost:8080/",
          "height": 456
        }
      },
      "source": [
        "draw_roc(y_test,boost_DT_y_pred)"
      ],
      "execution_count": 0,
      "outputs": [
        {
          "output_type": "display_data",
          "data": {
            "image/png": "[encoded data removed]",
            "text/plain": [
              "<Figure size 432x432 with 1 Axes>"
            ]
          },
          "metadata": {
            "tags": []
          }
        },
        {
          "output_type": "execute_result",
          "data": {
            "text/plain": [
              "(array([0.       , 0.0792393, 1.       ]),\n",
              " array([0.        , 0.52573529, 1.        ]),\n",
              " array([2, 1, 0]))"
            ]
          },
          "metadata": {
            "tags": []
          },
          "execution_count": 97
        }
      ]
    },
    {
      "cell_type": "code",
      "metadata": {
        "id": "qa3LoS80ia4J",
        "colab_type": "code",
        "colab": {}
      },
      "source": [
        "all_models=['lr','DT','rfc','lgbm','bag_lr','bag_DT','boost_lr','boost_DT']"
      ],
      "execution_count": 0,
      "outputs": []
    },
    {
      "cell_type": "code",
      "metadata": {
        "id": "1SxlXsPxjVoU",
        "colab_type": "code",
        "colab": {}
      },
      "source": [
        "models_err=pd.DataFrame({'Var':np.NaN,'Bias':np.NaN},index=all_models)"
      ],
      "execution_count": 0,
      "outputs": []
    },
    {
      "cell_type": "code",
      "metadata": {
        "id": "067ry17MjqxB",
        "colab_type": "code",
        "outputId": "e3ea3c9d-be12-4aa4-c36b-0ea60ff2f020",
        "colab": {
          "base_uri": "https://localhost:8080/",
          "height": 156
        }
      },
      "source": [
        "for model,names in zip([lr,DT,rfc,lgbm,bag_lr,bag_DT,boost_lr,boost_DT],all_models):\n",
        "    accuracy = []\n",
        "    model.fit(X_train,y_train)\n",
        "    y_predict = model.predict(X_test)\n",
        "    acc=metrics.accuracy_score(y_test,y_predict)\n",
        "    accuracy.append(round(acc*100,2))\n",
        "    print(\"Accuracy:\" ,accuracy,names)"
      ],
      "execution_count": 0,
      "outputs": [
        {
          "output_type": "stream",
          "text": [
            "Accuracy: [88.75] lr\n",
            "Accuracy: [86.35] DT\n",
            "Accuracy: [89.19] rfc\n",
            "Accuracy: [89.86] lgbm\n",
            "Accuracy: [88.78] bag_lr\n",
            "Accuracy: [89.75] bag_DT\n",
            "Accuracy: [87.4] boost_lr\n",
            "Accuracy: [86.27] boost_DT\n"
          ],
          "name": "stdout"
        }
      ]
    },
    {
      "cell_type": "code",
      "metadata": {
        "id": "n_3N-d1YmZ15",
        "colab_type": "code",
        "colab": {}
      },
      "source": [
        "from sklearn.metrics import roc_curve, precision_recall_curve, auc, make_scorer, recall_score, accuracy_score, precision_score, confusion_matrix"
      ],
      "execution_count": 0,
      "outputs": []
    },
    {
      "cell_type": "code",
      "metadata": {
        "id": "s_rRtav0jtE-",
        "colab_type": "code",
        "outputId": "88579e77-0d20-4945-9bf4-f441070828ef",
        "colab": {
          "base_uri": "https://localhost:8080/",
          "height": 156
        }
      },
      "source": [
        "from sklearn.model_selection import KFold\n",
        "from sklearn.metrics import roc_curve, auc\n",
        "kf=KFold(n_splits=5,shuffle=True,random_state=0)\n",
        "for model, name in zip([lr,DT,rfc,lgbm,bag_lr,bag_DT,boost_lr,boost_DT], \n",
        "      ['lr','DT','rfc','lgbm','bag_lr','bag_DT','boost_lr','boost_DT']):\n",
        "    roc_auc=[]\n",
        "    for train,test in kf.split(X,y):\n",
        "        Xtrain,Xtest=X.iloc[train,:],X.iloc[test,:]\n",
        "        Ytrain,Ytest=y.iloc[train],y.iloc[test]\n",
        "        model.fit(Xtrain,Ytrain)\n",
        "        Y_predict=model.predict(Xtest)\n",
        "        #cm=metrics.confusion_matrix(Ytest,Y_predict)\n",
        "        fpr,tpr, _ = roc_curve(Ytest,Y_predict)\n",
        "        roc_auc.append(auc(fpr, tpr))\n",
        "    print(\"AUC scores: %0.02f (+/- %0.5f) [%s]\" % (np.mean(roc_auc),\n",
        "                                    np.var(roc_auc,ddof=1), name ))   "
      ],
      "execution_count": 0,
      "outputs": [
        {
          "output_type": "stream",
          "text": [
            "AUC scores: 0.68 (+/- 0.00021) [lr]\n",
            "AUC scores: 0.74 (+/- 0.00024) [DT]\n",
            "AUC scores: 0.74 (+/- 0.00020) [rfc]\n",
            "AUC scores: 0.78 (+/- 0.00008) [lgbm]\n",
            "AUC scores: 0.68 (+/- 0.00021) [bag_lr]\n",
            "AUC scores: 0.77 (+/- 0.00009) [bag_DT]\n",
            "AUC scores: 0.61 (+/- 0.00014) [boost_lr]\n",
            "AUC scores: 0.74 (+/- 0.00021) [boost_DT]\n"
          ],
          "name": "stdout"
        }
      ]
    },
    {
      "cell_type": "code",
      "metadata": {
        "id": "k3f8A10NjsZf",
        "colab_type": "code",
        "colab": {}
      },
      "source": [
        ""
      ],
      "execution_count": 0,
      "outputs": []
    },
    {
      "cell_type": "code",
      "metadata": {
        "id": "RBWKq1Gojqr-",
        "colab_type": "code",
        "colab": {}
      },
      "source": [
        ""
      ],
      "execution_count": 0,
      "outputs": []
    },
    {
      "cell_type": "code",
      "metadata": {
        "id": "bI5oaA0JjqnR",
        "colab_type": "code",
        "colab": {}
      },
      "source": [
        ""
      ],
      "execution_count": 0,
      "outputs": []
    },
    {
      "cell_type": "code",
      "metadata": {
        "id": "v3tHdXGCjqhH",
        "colab_type": "code",
        "colab": {}
      },
      "source": [
        ""
      ],
      "execution_count": 0,
      "outputs": []
    },
    {
      "cell_type": "code",
      "metadata": {
        "id": "A4ah3rcqjoui",
        "colab_type": "code",
        "colab": {}
      },
      "source": [
        ""
      ],
      "execution_count": 0,
      "outputs": []
    }
  ]
}